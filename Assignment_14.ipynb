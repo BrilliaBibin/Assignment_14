{
 "cells": [
  {
   "cell_type": "raw",
   "id": "cca981a5-ac91-4132-807b-03411dcf4d20",
   "metadata": {},
   "source": [
    "1. What does RGBA stand for?\n",
    "\n",
    "        An RGBA value is a tuple of 4 integers, each ranging from 0 to 255. The four integers correspond to the amount of red, green, blue, and alpha (transparency) in the color."
   ]
  },
  {
   "cell_type": "raw",
   "id": "4f85d51d-1bbd-4fea-a8a4-d30f65078ae4",
   "metadata": {},
   "source": [
    "2. From the Pillow module, how do you get the RGBA value of any images?\n",
    "\n",
    "        A function call to ImageColor.getcolor('CornflowerBlue', 'RGBA') will return (100, 149, 237, 255), the RGBA value for that color."
   ]
  },
  {
   "cell_type": "raw",
   "id": "17cebb1f-ee64-4c00-b909-ac583745ace9",
   "metadata": {},
   "source": [
    "3. What is a box tuple, and how does it work?\n",
    "\n",
    "         A box tuple is a tuple value of four integers: the left-edge x-coordinate, the top-edge y-coordinate, the width, and the height, respectively."
   ]
  },
  {
   "cell_type": "raw",
   "id": "58c8a049-0a78-4f6a-bb23-4526cf5b578b",
   "metadata": {},
   "source": [
    "4. Use your image and load in notebook then, How can you find out the width and height of an\n",
    "Image object?\n",
    "\n",
    "          imageObj.size is a tuple of two integers, the width and the height."
   ]
  },
  {
   "cell_type": "raw",
   "id": "256f205c-e24d-4cc6-9d4b-37ceb25f115f",
   "metadata": {},
   "source": [
    "5. What method would you call to get Image object for a 100×100 image, excluding the lower-left\n",
    "quarter of it?\n",
    "\n",
    "        imageObj.crop((0, 50, 50, 50)). Notice that you are passing a box tuple to crop(), not four separate integer arguments."
   ]
  },
  {
   "cell_type": "raw",
   "id": "7e64a3e6-fafd-40a3-add3-e1744e9dac4b",
   "metadata": {},
   "source": [
    "6. After making changes to an Image object, how could you save it as an image file?\n",
    "\n",
    "         Call the imageObj.save('new_filename.png') method of the Image object."
   ]
  },
  {
   "cell_type": "raw",
   "id": "0484e2c5-5a51-48f9-a2b7-b727350b435b",
   "metadata": {},
   "source": [
    "7. What module contains Pillow’s shape-drawing code?\n",
    "\n",
    "         The ImageDraw module contains code to draw on images."
   ]
  },
  {
   "cell_type": "raw",
   "id": "882ce9ff-0690-46cb-a27e-9aaba87a5f03",
   "metadata": {},
   "source": [
    "8. Image objects do not have drawing methods. What kind of object does? How do you get this kind\n",
    "of object?\n",
    "\n",
    "          ImageDraw objects have shape-drawing methods such as point(), line(), or rectangle(). They are returned by passing the Image object to the ImageDraw.Draw() function."
   ]
  }
 ],
 "metadata": {
  "kernelspec": {
   "display_name": "Python 3 (ipykernel)",
   "language": "python",
   "name": "python3"
  },
  "language_info": {
   "codemirror_mode": {
    "name": "ipython",
    "version": 3
   },
   "file_extension": ".py",
   "mimetype": "text/x-python",
   "name": "python",
   "nbconvert_exporter": "python",
   "pygments_lexer": "ipython3",
   "version": "3.10.6"
  }
 },
 "nbformat": 4,
 "nbformat_minor": 5
}
